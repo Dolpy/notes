{
 "cells": [
  {
   "cell_type": "markdown",
   "metadata": {},
   "source": [
    "# LE A R N   ___P Y T H O N   (B A S I C S )"
   ]
  },
  {
   "cell_type": "markdown",
   "metadata": {},
   "source": [
    "Python is an interpreted language. The Python interpreter runs a program by executing one statement at a time. Most of the languages are compiler means they run script  as a whole suppose there is an error on 8th line compiler run the whole code then it will show that there is an error on 8th line .Thats not the case with python . python run code line by line it is an interpreter language suppose there is a error on 5th line code will not process after that line it will only process when script is written properly \n"
   ]
  },
  {
   "cell_type": "markdown",
   "metadata": {},
   "source": [
    "### What is ipython?\n",
    "ipython refers to Interactive Python which is like terminal for python . windows has cmd , linux has terminal , python has ipython . jupyter also uses ipython .which makes python more interactive than running python on cmd , or terminal"
   ]
  },
  {
   "cell_type": "code",
   "execution_count": null,
   "metadata": {},
   "outputs": [],
   "source": []
  },
  {
   "cell_type": "markdown",
   "metadata": {},
   "source": [
    "### Hello world in python"
   ]
  },
  {
   "cell_type": "code",
   "execution_count": 4,
   "metadata": {},
   "outputs": [
    {
     "name": "stdout",
     "output_type": "stream",
     "text": [
      "Hello World\n"
     ]
    }
   ],
   "source": [
    "print(\"Hello World\")"
   ]
  },
  {
   "cell_type": "code",
   "execution_count": 3,
   "metadata": {},
   "outputs": [
    {
     "name": "stdout",
     "output_type": "stream",
     "text": [
      "    /|\n",
      "   / |\n",
      "  /  |\n",
      " /   |\n"
     ]
    }
   ],
   "source": [
    "#Python prints everything which is inside print(\"\")\n",
    "print(\"    /|\")\n",
    "print(\"   / |\")\n",
    "print(\"  /  |\")\n",
    "print(\" /   |\")"
   ]
  },
  {
   "cell_type": "markdown",
   "metadata": {},
   "source": [
    "### Variables and data types"
   ]
  },
  {
   "cell_type": "code",
   "execution_count": 5,
   "metadata": {},
   "outputs": [
    {
     "name": "stdout",
     "output_type": "stream",
     "text": [
      "There once was a man named george\n",
      "he was 70 years old\n",
      "He really liked the name george\n",
      "but didn't like being 70\n"
     ]
    }
   ],
   "source": [
    "print(\"There once was a man named george\")\n",
    "print(\"he was 70 years old\")\n",
    "print(\"He really liked the name george\")\n",
    "print(\"but didn't like being 70\")"
   ]
  },
  {
   "cell_type": "code",
   "execution_count": 10,
   "metadata": {},
   "outputs": [
    {
     "name": "stdout",
     "output_type": "stream",
     "text": [
      "There  was a man named george ,\n",
      "He was 70 years old\n",
      "He really liked the name george ,\n",
      "but didn't like being 70 .\n",
      "There was a man named John,\n",
      "He was 35 years old.\n",
      "He really liked the name John,\n",
      "But did not like being 35.\n"
     ]
    }
   ],
   "source": [
    "#But what if we want to change name from geroge to john and age  to some other number?\n",
    "#we can also do it manually but it will take too much time\n",
    "character_name = \"John\"\n",
    "character_age = \"35\" # here 35 is string value if we remove quatations from 35 it will become int value\n",
    "print(\"There  was a man named george ,\")\n",
    "print(\"He was 70 years old\")\n",
    "print(\"He really liked the name george ,\")\n",
    "print(\"but didn't like being 70 .\")\n",
    "\n",
    "print('There was a man named ' + character_name + ',')\n",
    "print('He was ' + character_age + ' years old.')\n",
    "print('He really liked the name ' + character_name + ',')\n",
    "print('But did not like being ' + character_age + '.')"
   ]
  },
  {
   "cell_type": "code",
   "execution_count": 11,
   "metadata": {},
   "outputs": [
    {
     "name": "stdout",
     "output_type": "stream",
     "text": [
      "There was a man named John,\n",
      "He was 35 years old.\n",
      "He really liked the name Shayam,\n",
      "But did not like being 35.\n"
     ]
    }
   ],
   "source": [
    "#what if we want to change the name or age in the middle .Here's how it is done\n",
    "print('There was a man named ' + character_name + ',')\n",
    "print('He was ' + character_age + ' years old.')\n",
    "character_name = 'Shayam' # character name is changed so the next line of codes will use this updated value\n",
    "print('He really liked the name ' + character_name + ',')\n",
    "print('But did not like being ' + character_age + '.')"
   ]
  },
  {
   "cell_type": "markdown",
   "metadata": {},
   "source": [
    "### Working with strings"
   ]
  },
  {
   "cell_type": "code",
   "execution_count": null,
   "metadata": {},
   "outputs": [],
   "source": [
    "#Strigs: they contain plain text.\n",
    "#String literals in python are surrounded by either single quotation marks, or double quotation marks.\n",
    "print('Ankit\\nAcademy') # \\n inserts new line\n",
    "print('Ankit\\'s Academy') #\\ only using backslash will make Python not read the word right next to it."
   ]
  },
  {
   "cell_type": "code",
   "execution_count": 14,
   "metadata": {},
   "outputs": [
    {
     "name": "stdout",
     "output_type": "stream",
     "text": [
      "Abc Academy is cool\n"
     ]
    }
   ],
   "source": [
    "# CONCATENATION\n",
    "phrase = 'Abc Academy'\n",
    "print(phrase + ' is cool') # this is Concatenation where a string is appended to string"
   ]
  },
  {
   "cell_type": "code",
   "execution_count": 15,
   "metadata": {},
   "outputs": [
    {
     "name": "stdout",
     "output_type": "stream",
     "text": [
      "abc academy\n"
     ]
    }
   ],
   "source": [
    "# FUNCTIONS: We can use functions to modify the Strings but also to get information about the String.\n",
    "print(phrase.lower()) # lower(), upper() function converts the string to lowercase/uppercase."
   ]
  },
  {
   "cell_type": "code",
   "execution_count": 23,
   "metadata": {},
   "outputs": [
    {
     "name": "stdout",
     "output_type": "stream",
     "text": [
      "False\n"
     ]
    }
   ],
   "source": [
    "# islower(), isupper() gives boolean value if the String is lowercase or uppercase.\n",
    "print(phrase.islower()) "
   ]
  },
  {
   "cell_type": "code",
   "execution_count": 24,
   "metadata": {},
   "outputs": [
    {
     "name": "stdout",
     "output_type": "stream",
     "text": [
      "True\n"
     ]
    }
   ],
   "source": [
    " # this will give True as the phrase was first converted to lowercase, then islower() is run.\n",
    "print(phrase.lower().islower())"
   ]
  },
  {
   "cell_type": "code",
   "execution_count": 20,
   "metadata": {},
   "outputs": [
    {
     "name": "stdout",
     "output_type": "stream",
     "text": [
      "11\n"
     ]
    }
   ],
   "source": [
    "#len() gives the length of the string inside it .It also include space\n",
    "print(len(phrase))"
   ]
  },
  {
   "cell_type": "code",
   "execution_count": 21,
   "metadata": {},
   "outputs": [
    {
     "name": "stdout",
     "output_type": "stream",
     "text": [
      "A\n"
     ]
    }
   ],
   "source": [
    "#it will give the letter at position 0 from the phrase\n",
    "print(phrase[0])"
   ]
  },
  {
   "cell_type": "code",
   "execution_count": 27,
   "metadata": {},
   "outputs": [
    {
     "name": "stdout",
     "output_type": "stream",
     "text": [
      "0\n"
     ]
    }
   ],
   "source": [
    "#In programming giving information or value to a function, is called as 'passing a parameter'.\n",
    "# index() function will tell us where a specific character is located inside of our String. It only tells the location of\n",
    "#first A it finds in the String.\n",
    "print(phrase.index('A'))"
   ]
  },
  {
   "cell_type": "code",
   "execution_count": 28,
   "metadata": {},
   "outputs": [
    {
     "name": "stdout",
     "output_type": "stream",
     "text": [
      "4\n"
     ]
    }
   ],
   "source": [
    "#this will tell the location from where 'Acad' started.\n",
    "print(phrase.index('Acad'))"
   ]
  },
  {
   "cell_type": "code",
   "execution_count": 30,
   "metadata": {},
   "outputs": [
    {
     "name": "stdout",
     "output_type": "stream",
     "text": [
      "Ram Academy\n"
     ]
    }
   ],
   "source": [
    "# replace() function takes 2 parameters, first one which is to be replaced, second one with with it is to be replaced.\n",
    "print(phrase.replace('Abc', 'Ram')) "
   ]
  },
  {
   "cell_type": "markdown",
   "metadata": {},
   "source": [
    "### Working With Numbers"
   ]
  },
  {
   "cell_type": "code",
   "execution_count": 31,
   "metadata": {
    "scrolled": true
   },
   "outputs": [
    {
     "name": "stdout",
     "output_type": "stream",
     "text": [
      "2.987\n",
      "-2\n",
      "5\n",
      "17\n",
      "27\n",
      "1\n",
      "3.3333333333333335\n",
      "5\n",
      "5\n",
      "5 is my lucky number.\n",
      "5\n",
      "9\n",
      "8\n",
      "4\n",
      "300\n",
      "300\n",
      "-2\n",
      "301\n",
      "301\n",
      "-1\n",
      "6.0\n"
     ]
    }
   ],
   "source": [
    "print(2.987)\n",
    "print(-2) # Python can handle negative values just fine\n",
    "\n",
    "# Mathematical equations\n",
    "print(2 + 3)\n",
    "print(3 * 4 + 5) # It will execute it serially answer will be 17\n",
    "print(3 * (4 + 5)) # Python will first execute the equation inside the inner bracket then the remaining. Using brackets we can make very complex equations too.\n",
    "print(10 % 3) # % is called Mod, which gives the Remainder of 10 divided by 3 as the output\n",
    "print(10 / 3) # / is the normal divide\n",
    "\n",
    "my_num = 5\n",
    "print(my_num)\n",
    "print(str(my_num)) # str() converts the specified value into a String.\n",
    "\n",
    "# We cannot print Numbers alongside Strings, if they are of different data type, So we convert Number to String like below:\n",
    "print(str(my_num) + ' is my lucky number.')\n",
    "\n",
    "my_num=-5\n",
    "print(abs(my_num)) # abs() function gives the absolute value of a number. For -5, abs will be 5.\n",
    "\n",
    "print(pow(3,2)) #pow(val1, val2), pow function takes two parameters. Val1 is the just the number and Val2 is what power Val1 is to be raised to.\n",
    "print(max(4,6,8)) # max() function can take n number of parameters and return the Max value. Similarly for min()\n",
    "print(round(3.72)) # round() function rounds the value.\n",
    "\n",
    "# To access a lot of other features using numbers, we import math module\n",
    "from math import *\n",
    "\n",
    "print(floor(300.11)) # floor() function in Python returns floor of x i.e., the largest integer not greater than x. Simple words, round the number UP.\n",
    "print(floor(300.99))\n",
    "print(floor(-1.11)) # it will give -2 which is the largest integer not greater than -1.11\n",
    "\n",
    "print(ceil(300.11)) # ceil() in Python returns ceiling value of x i.e., the smallest integer not less than x. Simple words, round the number DOWN.\n",
    "print(ceil(300.99))\n",
    "print(ceil(-1.11)) # it will return -1 which is the smallest integer not less than -1.11\n",
    "\n",
    "print(sqrt(36)) # sqrt() returns the square root of the number"
   ]
  },
  {
   "cell_type": "markdown",
   "metadata": {},
   "source": [
    "### Getting Input From Users"
   ]
  },
  {
   "cell_type": "code",
   "execution_count": 32,
   "metadata": {},
   "outputs": [
    {
     "name": "stdout",
     "output_type": "stream",
     "text": [
      "Enter your name: ram\n",
      "Enter your age: 67\n",
      "Hello ram! You are 67.\n"
     ]
    }
   ],
   "source": [
    "'''\n",
    "input ( ) : This function first takes the input from the user.\n",
    "Python thinks of all the input as Strings.\n",
    "'''\n",
    "\n",
    "name = input('Enter your name: ') #Storing the input value in a variable\n",
    "age = input('Enter your age: ')\n",
    "print('Hello ' + name + '! You are ' + age +'.') # it will ask the input from user first and then print it using those inputs"
   ]
  },
  {
   "cell_type": "markdown",
   "metadata": {},
   "source": [
    "### Building a Basic Calculator"
   ]
  },
  {
   "cell_type": "code",
   "execution_count": 33,
   "metadata": {},
   "outputs": [
    {
     "name": "stdout",
     "output_type": "stream",
     "text": [
      "Enter a number: 5\n",
      "Enter another number: 9\n",
      "59\n",
      "14.0\n"
     ]
    }
   ],
   "source": [
    "'''\n",
    "We will get 2 numbers from user and store it in variable and build a very basic calculator\n",
    "'''\n",
    "num1 = input('Enter a number: ')\n",
    "num2 = input('Enter another number: ')\n",
    "result = num1 + num2\n",
    "print(result) # if the user had inputs 5 and 4, the result will show 54 because pythin thinks of them as strings. So we change the inputs to Number first.\n",
    "\n",
    "# To convert the String into Number there are 2 methods: int() which is used for Integers; another is float() which takes decimal values too.\n",
    "result = float(num1) + float(num2)\n",
    "print(result)"
   ]
  },
  {
   "cell_type": "markdown",
   "metadata": {},
   "source": [
    "### Mad Libs Game"
   ]
  },
  {
   "cell_type": "code",
   "execution_count": 39,
   "metadata": {},
   "outputs": [
    {
     "name": "stdout",
     "output_type": "stream",
     "text": [
      "Enter a color: Red\n",
      "Enter a Noun: Roorkee\n",
      "Enter your name: Dolpy\n",
      "Roses are Red\n",
      "Roorkee is cold\n",
      "I am Dolpy\n"
     ]
    }
   ],
   "source": [
    "'''\n",
    "We will build a Mad Lib Game using inputs from user. In this game we insert random words and create sentences.\n",
    "'''\n",
    "\n",
    "color = input('Enter a color: ')\n",
    "singular_noun = input('Enter a Noun: ')\n",
    "your_name = input('Enter your name: ')\n",
    "\n",
    "print('Roses are ' + color)\n",
    "print(singular_noun + ' is cold')\n",
    "print('I am ' + your_name)"
   ]
  },
  {
   "cell_type": "markdown",
   "metadata": {},
   "source": [
    "### Lists and List functions."
   ]
  },
  {
   "cell_type": "code",
   "execution_count": 233,
   "metadata": {},
   "outputs": [],
   "source": [
    "#List is a collection which is ordered and changeable. Allows duplicate members.List may have number,string,boolean values.\n",
    "\n",
    "# Tuple is a collection which is ordered and unchangeable. Allows duplicate members.\n",
    "\n",
    "# Set is a collection which is unordered and unindexed. No duplicate members.\n",
    "\n",
    "# Dictionary is a collection which is unordered, changeable and indexed. No duplicate members."
   ]
  },
  {
   "cell_type": "code",
   "execution_count": 228,
   "metadata": {},
   "outputs": [
    {
     "name": "stdout",
     "output_type": "stream",
     "text": [
      "['Kevin', 'Ankit', '1', False]\n",
      "Kevin\n",
      "False\n",
      "['Ankit', '1', False]\n",
      "['Ankit', '1']\n",
      "['Kevin', 'Ankit', '1']\n",
      "Dholu\n"
     ]
    }
   ],
   "source": [
    "#Introducing list\n",
    "friends = ['Kevin', 'Ankit', '1', False]\n",
    "\n",
    "#Lists can store anything- Strings, Numbers, or Booleans. List is always in square parenthesis\n",
    "print(friends)\n",
    "\n",
    "# We can access any value from a list using indexing, indexing starts from 0 in a list. 0 will print Kevin, 1 will print Ankit.\n",
    "print(friends[0]) \n",
    "\n",
    "# Using negative in index will start from the end of the list. Last element is -1, 2nd last is -2 and so on. THERE IS NO -0.\n",
    "print(friends[-1])\n",
    "\n",
    "# Using Range in indexing, we can select from a range of r=values in the list. [1:] means from 1 to the last value\n",
    "print(friends[1:]) \n",
    "\n",
    "# [1:3] means from 1 to 2. NOTE: IT DOES OT INCLUDE 3.\n",
    "print(friends[1:3])\n",
    "\n",
    "# [:3] means from starting to 2. NOTE: IT DOES OT INCLUDE 3.\n",
    "print(friends[:3]) \n",
    "\n",
    "# Modifying values inside a list\n",
    "friends[3] = 'Dholu'  # this will change the value at index 3 in friends list to Dholu\n",
    "print(friends[3])"
   ]
  },
  {
   "cell_type": "code",
   "execution_count": 232,
   "metadata": {},
   "outputs": [
    {
     "name": "stdout",
     "output_type": "stream",
     "text": [
      "0\n",
      "[]\n"
     ]
    }
   ],
   "source": [
    "#List function\n",
    "# List functions\n",
    "lucky_number = [15,99,24,13,45,62]\n",
    "friends = ['Ram', 'Dholu', 'Molu', 'Kalia', 'Shin', 'Chan']\n",
    "\n",
    "# extends() tterates over its argument and adding each element to the list and extending the list.\n",
    "friends.extend(lucky_number)\n",
    "\n",
    "# append() adds the element on to the end of the list\n",
    "friends.append('Kalia')  \n",
    "\n",
    "#insert() is used to insert a element at a specific position. List gets pushed to the right. Takes two parameters: index position and element to be inserted\n",
    "friends.insert(1, 'Bholu')\n",
    "\n",
    "# remove() removes the element mentioned inside this function.\n",
    "friends.remove('Bholu') \n",
    "\n",
    "# removes all the elements inside the list\n",
    "friends.clear() \n",
    "\n",
    "# pop removes the last element off the list\n",
    "# friends.pop()\n",
    "\n",
    "# to find out if a particular element is in the list, use index like below:\n",
    "# if a name is not in the list, it will give an error\n",
    "# print(friends.index('Dholu'))  \n",
    "\n",
    "# count() takes just 1 parameter. and it counts the total number of specified element in a list.\n",
    "print(friends.count('Kalia'))  \n",
    "\n",
    "# sorts the list in ascending/ alphabetical order\n",
    "# friends.sort()  \n",
    "\n",
    "# reverses the order in the list\n",
    "friends.reverse()  \n",
    "\n",
    "# copy() creates a copy of a list. We stored it in new list named friends2.\n",
    "friends2 = friends.copy()  \n",
    "\n",
    "print(friends)"
   ]
  },
  {
   "cell_type": "markdown",
   "metadata": {},
   "source": [
    "### Tuples"
   ]
  },
  {
   "cell_type": "code",
   "execution_count": 226,
   "metadata": {},
   "outputs": [
    {
     "name": "stdout",
     "output_type": "stream",
     "text": [
      "4\n",
      "[(1, 2), (9, 32), (55, 88), (2, 43)]\n"
     ]
    }
   ],
   "source": [
    "'''\n",
    "A tuple is a sequence of immutable Python objects. Tuples are sequences, just like lists.\n",
    "The differences between tuples and lists are, the tuples cannot be changed unlike lists and tuples use parentheses,\n",
    "whereas lists use square brackets.\n",
    "Tuple are immutable: meaning it can not change or modified\n",
    "'''\n",
    "\n",
    "coordinates = (4,5)\n",
    "print((coordinates[0]))  # we can access tuples using indexing, just like lists\n",
    "# But we cannot modify a tuple. We use tuple data we know is never going to change.\n",
    "# coordinates[0] = 3  # it will give error, as we cannot change a tuple\n",
    "\n",
    "# We can store tuples in a list.\n",
    "coordinates = [(4,5), (9,32), (55,88), (2,43)]\n",
    "coordinates[0] = (1,2) # entire tuple can be changed in a list, but values inside a tuple can never be modified\n",
    "print(coordinates)"
   ]
  },
  {
   "cell_type": "markdown",
   "metadata": {},
   "source": [
    "### Functions"
   ]
  },
  {
   "cell_type": "code",
   "execution_count": 236,
   "metadata": {},
   "outputs": [
    {
     "name": "stdout",
     "output_type": "stream",
     "text": [
      "Hello User!\n",
      "Hello Ankit!\n",
      "Hello Ram!\n",
      "Hello Ankit!. You are 22\n",
      "Hello Ram!. You are 50\n"
     ]
    }
   ],
   "source": [
    "'''\n",
    "A function is a block of code which only runs when it is called.\n",
    "You can pass data, known as parameters, into a function.\n",
    "A function can return data as a result.\n",
    "'''\n",
    "\n",
    "# In Python a function is defined using the def keyword. We will create a function which says Hi.\n",
    "\n",
    "\n",
    "def say_hi():  # say_hi is just a name I gave to the function\n",
    "    print('Hello User!')\n",
    "\n",
    "\n",
    "say_hi()  # To call a function, use the function name followed by parenthesis.\n",
    "\n",
    "\n",
    "def say_hi(name):  # we can pass parameters inside a function which means when the func is called, paramenters have to be provided.\n",
    "    print('Hello ' + name + '!')  # We can access the parameter inside our function like shown\n",
    "\n",
    "\n",
    "say_hi('Ankit')\n",
    "say_hi('Ram')\n",
    "\n",
    "\n",
    "def say_hi(name, age):  # multiple parameters can also be passed\n",
    "    print('Hello ' + name + '!. You are ' + str(age)) # age is changed to string coz concatenation rule.\n",
    "\n",
    "\n",
    "say_hi('Ankit', 22)\n",
    "say_hi('Ram',50 )"
   ]
  },
  {
   "cell_type": "markdown",
   "metadata": {},
   "source": [
    "### Return Statement"
   ]
  },
  {
   "cell_type": "code",
   "execution_count": null,
   "metadata": {},
   "outputs": [],
   "source": [
    "'''\n",
    "Return Statement:\n",
    "The return keyword is to exit a function and return a value. Basically we provide a function information and-\n",
    "- the function return the the output back using Return Statement.\n",
    "In prev ex. we used print inside a func to say hi. But when when called it showed Hi User!.\n",
    "But in cases where print is not used, we have to use return which will return the value whenever called.\n",
    "'''"
   ]
  },
  {
   "cell_type": "code",
   "execution_count": 237,
   "metadata": {},
   "outputs": [],
   "source": [
    "def cube(num):\n",
    "    return num*num*num\n",
    "cube(3)"
   ]
  },
  {
   "cell_type": "code",
   "execution_count": 241,
   "metadata": {},
   "outputs": [
    {
     "name": "stdout",
     "output_type": "stream",
     "text": [
      "64\n"
     ]
    }
   ],
   "source": [
    "#we can also store it in a Variable\n",
    "result = cube(4)\n",
    "print(result)"
   ]
  },
  {
   "cell_type": "markdown",
   "metadata": {},
   "source": [
    "### If Statements  and Comparisions"
   ]
  },
  {
   "cell_type": "code",
   "execution_count": 242,
   "metadata": {},
   "outputs": [
    {
     "name": "stdout",
     "output_type": "stream",
     "text": [
      "You are neither male nor tall!\n",
      "You are either not male or not tall or both\n",
      "You are a not a male but are tall\n"
     ]
    }
   ],
   "source": [
    "#If statements\n",
    "'''\n",
    "I wake up\n",
    "If I'm hungry\n",
    "    I eat breakfast\n",
    "If leave my house\n",
    "if it's cloudy'\n",
    "    I bring an umbrella\n",
    "otherwise\n",
    "    I bring sunglasses\n",
    "Im at a restaurant\n",
    "if I want meat\n",
    "    I order a steak\n",
    "otherwise if I want pasta\n",
    "    I order spaghetti\n",
    "otherwise\n",
    "    I order Salad\n",
    "'''\n",
    "\n",
    "is_male = False  # We create boolean variable storing weather a person is male\n",
    "is_tall = False\n",
    "if is_male or is_tall:\n",
    "    print('You are a male or tall!')\n",
    "else:\n",
    "    print('You are neither male nor tall!')  # if is_male is False\n",
    "\n",
    "\n",
    "is_male = False\n",
    "is_tall = False\n",
    "if is_male and is_tall:\n",
    "    print('You are a male and tall!')\n",
    "else:\n",
    "    print('You are either not male or not tall or both')  # if is_male is False\n",
    "\n",
    "# we can play with True False values for different results\n",
    "is_male = False\n",
    "is_tall = True\n",
    "if is_male and is_tall:\n",
    "    print('You are a male and tall!')\n",
    "elif is_male and not(is_tall):\n",
    "    print('You are a short male')\n",
    "elif not(is_male) and is_tall:\n",
    "    print('You are a not a male but are tall')\n",
    "else:\n",
    "    print('You are not a male and not tall')"
   ]
  },
  {
   "cell_type": "code",
   "execution_count": 246,
   "metadata": {},
   "outputs": [],
   "source": [
    "# Comparisions\n",
    "\n",
    "#in this we'll build a function which return maxiimum of the 3 numbers\n",
    "\n",
    "def  max_of_num(num1,num2,num3):\n",
    "    if num1>=num2 and num1>=num3:\n",
    "        return(num1)\n",
    "    elif num2>=num1 and num2>=num3:\n",
    "        return(num3)\n",
    "    else:\n",
    "        return(num3)"
   ]
  },
  {
   "cell_type": "code",
   "execution_count": 247,
   "metadata": {},
   "outputs": [
    {
     "data": {
      "text/plain": [
       "7"
      ]
     },
     "execution_count": 247,
     "metadata": {},
     "output_type": "execute_result"
    }
   ],
   "source": [
    "max_of_num(5,6,7)"
   ]
  },
  {
   "cell_type": "code",
   "execution_count": null,
   "metadata": {},
   "outputs": [],
   "source": [
    "# Building a basic calculator"
   ]
  },
  {
   "cell_type": "code",
   "execution_count": 8,
   "metadata": {},
   "outputs": [
    {
     "name": "stdout",
     "output_type": "stream",
     "text": [
      "Enter first number4\n",
      "Enter second number4\n",
      "please enter the operator+\n",
      "8.0\n"
     ]
    }
   ],
   "source": [
    "num1 = float(input(\"Enter first number\"))\n",
    "num2 = float(input(\"Enter second number\"))\n",
    "operator = input(\"please enter the operator\")\n",
    "\n",
    "if operator == '+' :\n",
    "    print(num1 + num2)\n",
    "elif operator == '-' :\n",
    "    print(num1 - num2)\n",
    "elif operator == '/' :\n",
    "    print(num1 / num2)\n",
    "elif operator == '*' :\n",
    "    print(num1 * num2)\n",
    "else :\n",
    "    print(\"please enter a valid operator\")"
   ]
  },
  {
   "cell_type": "markdown",
   "metadata": {},
   "source": [
    "### Dictionaries"
   ]
  },
  {
   "cell_type": "code",
   "execution_count": null,
   "metadata": {},
   "outputs": [],
   "source": [
    "#It allows us to store information in key values pairs . The dictonaries we use curly brackets '{}'\n",
    "\n",
    "# Dictionaries are another example of a data structure.\n",
    "# A dictionary is used to map or associate things you want to store the keys you need to get them.\n",
    "# A dictionary in Python is just like a dictionary in the real world.\n",
    "# Python Dictionary are defined into two elements Keys and Values.\n",
    "# Keys: will be a single element\n",
    "# Values: can be a list or list within a list, numbers, etc.\n"
   ]
  },
  {
   "cell_type": "code",
   "execution_count": 9,
   "metadata": {},
   "outputs": [],
   "source": [
    "monthConversions = {\n",
    "    'Jan' : 'January',\n",
    "    'Feb' : 'February',\n",
    "    'Mar' : 'March',\n",
    "    'Apr' : 'April',\n",
    "    'May' : 'May',\n",
    "    'Jun' : 'June',\n",
    "    'Jul' : 'July',\n",
    "    'Aug' : 'August',\n",
    "    'Sep' : 'September',\n",
    "    'Oct' : 'October',\n",
    "    'Nov' : 'November',\n",
    "    'Dec' : 'December'\n",
    "}"
   ]
  },
  {
   "cell_type": "code",
   "execution_count": 10,
   "metadata": {},
   "outputs": [
    {
     "name": "stdout",
     "output_type": "stream",
     "text": [
      "November\n",
      "December\n",
      "Not a Valid Key\n",
      "April\n"
     ]
    }
   ],
   "source": [
    "# Two methods to access a specific or value:\n",
    "print(monthConversions['Nov'])\n",
    "print(monthConversions.get('Dec'))\n",
    "\n",
    "# Incase we enter wrong key which are not mapped we can use pass a default value like below:\n",
    "print(monthConversions.get('Luv', 'Not a Valid Key'))\n",
    "\n",
    "# We can assign variable like:\n",
    "x = monthConversions['Apr']\n",
    "print(x)"
   ]
  },
  {
   "cell_type": "code",
   "execution_count": 15,
   "metadata": {},
   "outputs": [
    {
     "name": "stdout",
     "output_type": "stream",
     "text": [
      "January\n",
      "February\n",
      "March\n",
      "April\n",
      "May\n",
      "June\n",
      "July\n",
      "August\n",
      "September\n",
      "October\n",
      "November\n",
      "December\n",
      "Jan January\n",
      "Feb February\n",
      "Mar March\n",
      "Apr April\n",
      "May May\n",
      "Jun June\n",
      "Jul July\n",
      "Aug August\n",
      "Sep September\n",
      "Oct October\n",
      "Nov November\n",
      "Dec December\n"
     ]
    }
   ],
   "source": [
    "for m in monthConversions:\n",
    "    print(monthConversions[m])\n",
    "# OR\n",
    "\n",
    "# for m in monthConversions.values():\n",
    "#     print(m)\n",
    "\n",
    "# OR we can print both keys and values in a dict like:\n",
    "for k, v in monthConversions.items():\n",
    "    print(k, v)"
   ]
  },
  {
   "cell_type": "markdown",
   "metadata": {},
   "source": [
    "### While loop"
   ]
  },
  {
   "cell_type": "code",
   "execution_count": 18,
   "metadata": {},
   "outputs": [],
   "source": [
    "# Python has two primitive loop commands:\n",
    "#     1. while loops\n",
    "#     2. for loops\n",
    "# While loop: With the while loop we can execute a set of statements as long as a condition is true.\n",
    "# For loop: is used for iterating over a sequence (that is either a list, a tuple, a dictionary, a set, or a string).\n",
    "# While loop is explained through below code:"
   ]
  },
  {
   "cell_type": "code",
   "execution_count": 19,
   "metadata": {},
   "outputs": [
    {
     "name": "stdout",
     "output_type": "stream",
     "text": [
      "1\n",
      "2\n",
      "3\n",
      "4\n",
      "5\n",
      "6\n",
      "7\n",
      "8\n",
      "9\n",
      "10\n",
      "Done with loop\n"
     ]
    }
   ],
   "source": [
    "i = 1\n",
    "while i <= 10:  # anything we write below will keep on executing till i <= 10.\n",
    "    print(i)  # this line will keep on executing in a loop until i becomes equal to 10.\n",
    "    i += 1  # shorthand for means i=i+1\n",
    "print('Done with loop')"
   ]
  },
  {
   "cell_type": "markdown",
   "metadata": {},
   "source": [
    "### Building a Guessing game"
   ]
  },
  {
   "cell_type": "code",
   "execution_count": 58,
   "metadata": {},
   "outputs": [
    {
     "name": "stdout",
     "output_type": "stream",
     "text": [
      "enter guess: giraffe\n",
      "You win \n"
     ]
    }
   ],
   "source": [
    "#This programme will show you win when when \n",
    "secret_word = 'giraffe'\n",
    "guess = input(\"enter guess: \")\n",
    "\n",
    "while guess != secret_word:\n",
    "    guess=input(\"you loose enter guess: \")\n",
    "print('You win ')"
   ]
  },
  {
   "cell_type": "code",
   "execution_count": 16,
   "metadata": {},
   "outputs": [
    {
     "name": "stdout",
     "output_type": "stream",
     "text": [
      "You will get total 3 chances to guess the correct answer.\n",
      "What is it which is the building block of everything?\n",
      "Enter your guess: dd\n",
      "Enter your guess: dolpy\n",
      "You Win!!!\n"
     ]
    }
   ],
   "source": [
    "'''\n",
    "We will build a guessing game where until the user guesses the Secret word, it will keep on going.\n",
    "When the user guesses the secret word. He wins.\n",
    "'''\n",
    "\n",
    "secret_word = 'dolpy'\n",
    "guess = ''\n",
    "guess_count = 0\n",
    "total_guess = 3\n",
    "out_of_guess = False\n",
    "\n",
    "\n",
    "print('You will get total 3 chances to guess the correct answer.')\n",
    "print('What is it which is the building block of everything?')\n",
    "while guess != secret_word and not(out_of_guess):\n",
    "    if guess_count < total_guess:\n",
    "        guess = input('Enter your guess: ')\n",
    "        guess_count += 1\n",
    "        guess_left = total_guess - guess_count\n",
    "    else:\n",
    "        out_of_guess = True\n",
    "if out_of_guess:\n",
    "    print(\"You Lose!!!\")\n",
    "else:\n",
    "    print(\"You Win!!!\")"
   ]
  },
  {
   "cell_type": "markdown",
   "metadata": {},
   "source": [
    "### For loop"
   ]
  },
  {
   "cell_type": "code",
   "execution_count": 44,
   "metadata": {},
   "outputs": [
    {
     "name": "stdout",
     "output_type": "stream",
     "text": [
      "D\n",
      "o\n",
      "l\n",
      "p\n",
      "y\n",
      "Ankit\n",
      "Ram\n",
      "Shayam\n",
      "Dholu\n",
      "1\n",
      "2\n",
      "3\n",
      "4\n",
      "5\n",
      "6\n",
      "7\n",
      "8\n",
      "9\n",
      "Ankit\n",
      "Ram\n",
      "Shayam\n",
      "Dholu\n",
      "first iteration\n",
      "other iteration\n",
      "other iteration\n"
     ]
    }
   ],
   "source": [
    "'''\n",
    "ForLoop:\n",
    "A for loop is used for iterating over a sequence (that is either a list, a tuple, a dictionary, a set, or a string).\n",
    "'''\n",
    "\n",
    "# For loop in a String:\n",
    "for i in 'Dolpy':  # Instead of l, you can write anything. It is called a variable here. It is spoken as for each variable i.e letter/ string/ element in 'Ankit is cool'\n",
    "    print(i) # print that variable\n",
    "\n",
    "# Array: Arrays are used to store multiple values in one single variable. Unlike lists, in Numpy array all the\n",
    "# elements of the list are of the same type.\n",
    "\n",
    "# For loop in a array:\n",
    "friends = ['Ankit', 'Ram', 'Shayam', 'Dholu']\n",
    "for friend in friends:\n",
    "    print(friend)\n",
    "\n",
    "# For loop in Numbers:\n",
    "for i in range(1,10):\n",
    "    print(i)\n",
    "\n",
    "# For loop in array using indexing: it will also print friends but ussing different approach\n",
    "friends = ['Ankit', 'Ram', 'Shayam', 'Dholu']\n",
    "for index in range(len(friends)):  # len(friends) will give 3.\n",
    "    print(friends[index])\n",
    "\n",
    "#\n",
    "for i in range(3):\n",
    "    if i == 0:\n",
    "        print('first iteration')\n",
    "    else:\n",
    "        print('other iteration')"
   ]
  },
  {
   "cell_type": "markdown",
   "metadata": {},
   "source": [
    "### Exponent Function"
   ]
  },
  {
   "cell_type": "code",
   "execution_count": 45,
   "metadata": {},
   "outputs": [
    {
     "name": "stdout",
     "output_type": "stream",
     "text": [
      "8\n",
      "27\n",
      "16\n",
      "1024\n"
     ]
    }
   ],
   "source": [
    "print(2**3)\n",
    "\n",
    "# We will make a function for using exponents:\n",
    "def raise_to_power(base_num, pow_num):\n",
    "    result = 1\n",
    "    for i in range(pow_num):\n",
    "        result = result * base_num\n",
    "    return result\n",
    "\n",
    "\n",
    "print(raise_to_power(3, 3))\n",
    "print(raise_to_power(4, 2))\n",
    "print(raise_to_power(2, 10))"
   ]
  },
  {
   "cell_type": "markdown",
   "metadata": {},
   "source": [
    "### 2D lists and nested loop"
   ]
  },
  {
   "cell_type": "code",
   "execution_count": 46,
   "metadata": {},
   "outputs": [
    {
     "name": "stdout",
     "output_type": "stream",
     "text": [
      "[1, 2, 3]\n",
      "1\n",
      "[1, 2, 3]\n",
      "[4, 5, 6]\n",
      "[7, 8, 9]\n",
      "[0]\n",
      "1\n",
      "2\n",
      "3\n",
      "4\n",
      "5\n",
      "6\n",
      "7\n",
      "8\n",
      "9\n",
      "0\n"
     ]
    }
   ],
   "source": [
    "  \n",
    "# 2D list is Lists inside a list.\n",
    "number_grid = [\n",
    "    [1, 2, 3],\n",
    "    [4, 5, 6],\n",
    "    [7, 8, 9],\n",
    "    [0]\n",
    "]\n",
    "\n",
    "print(number_grid[0])  # it will print first element in number_grid which is a list\n",
    "print(number_grid[0][0])  # it will give first element in the first list in the number_grid\n",
    "\n",
    "for i in number_grid:  # it will print each list in the number_grid\n",
    "    print(i)\n",
    "\n",
    "# Nested For loop: means for loop inside a for loop like:\n",
    "for i in number_grid: \n",
    "    for j in i:\n",
    "        print(j)"
   ]
  },
  {
   "cell_type": "markdown",
   "metadata": {},
   "source": [
    "### Building a Translator "
   ]
  },
  {
   "cell_type": "code",
   "execution_count": 94,
   "metadata": {},
   "outputs": [
    {
     "name": "stdout",
     "output_type": "stream",
     "text": [
      "My ngmg gs Dggpgsh sgngh\n"
     ]
    }
   ],
   "source": [
    "  # We will build a translator where we will replace vowels with g\n",
    "def translator(phrase):\n",
    "    translation = ''\n",
    "    for letter in phrase:\n",
    "        if letter.lower() in 'AEIOUaeiou':\n",
    "            translation = translation +  'g'\n",
    "        else:\n",
    "            translation =  translation + letter\n",
    "    return translation\n",
    "\n",
    "print(translator('My name is DEepesh singh'))"
   ]
  },
  {
   "cell_type": "markdown",
   "metadata": {},
   "source": [
    "###  Try and Except"
   ]
  },
  {
   "cell_type": "code",
   "execution_count": 95,
   "metadata": {},
   "outputs": [
    {
     "name": "stdout",
     "output_type": "stream",
     "text": [
      "Enter a number: kk\n",
      "Invalid input 1\n",
      "Invalid input 2\n",
      "Enter a number: l\n",
      "invalid literal for int() with base 10: 'l'\n"
     ]
    }
   ],
   "source": [
    "'''\n",
    "The try block lets you test a block of code for errors.\n",
    "The except block lets you handle the error.\n",
    "The finally block lets you execute code, regardless of the result of the try- and except blocks.\n",
    "We use try except to avoid our program to break because of a error.\n",
    "'''\n",
    "try:\n",
    "    number = int(input('Enter a number: '))\n",
    "    print(number)\n",
    "except:  # only using except is way too broad.\n",
    "    print('Invalid input 1')\n",
    "\n",
    "# In the below example, we only get the Invalid input, but we did not know from the except what caused that error and-\n",
    "# -what is that error.\n",
    "try:\n",
    "    value = 10/0\n",
    "    number = int(input('Enter a number: '))\n",
    "    print(number)\n",
    "except:\n",
    "    print('Invalid input 2')\n",
    "\n",
    "# We can create 2 different except blocks to catch 2 different error and store error as variable.\n",
    "try:\n",
    "    # value = 10 / 0\n",
    "    number = int(input('Enter a number: '))\n",
    "    print(number)\n",
    "except ZeroDivisionError as err:  # We can store error in a variable, say err, to show the exact error text that occurs\n",
    "    print(err)\n",
    "except ValueError as err1:\n",
    "    print(err1)"
   ]
  },
  {
   "cell_type": "markdown",
   "metadata": {},
   "source": [
    "### Reading files"
   ]
  },
  {
   "cell_type": "code",
   "execution_count": null,
   "metadata": {},
   "outputs": [],
   "source": [
    "'''\n",
    "We can read files from external sources.\n",
    "'''\n",
    "\n",
    "employee_file = open('employee.txt', 'r')\n",
    "# r means read mode\n",
    "# w means write mode\n",
    "# a means append mode\n",
    "# r+ means read and write mode\n",
    "\n",
    "# We can use various functions in this employee file\n",
    "print(employee_file.readable())  # to check if the file is readable. It will return a True or False value\n",
    "# print(employee_file.read())  # it will read all the information in the file\n",
    "# print(employee_file.readline())  # it will read the first line\n",
    "# print(employee_file.readline())  # if we repeat this function, it will read the second line and so on\n",
    "# print(employee_file.readlines()) # it will rea lines in an array form\n",
    "# print(employee_file.readlines()[1]) # using indexing it will read the line at index 1.\n",
    "\n",
    "for employee in employee_file.readlines():  # for loop for reading multiple lines at once\n",
    "    print(employee)\n",
    "\n",
    "employee_file.close()  # open file should be closed when work is done. It is a good practice."
   ]
  },
  {
   "cell_type": "markdown",
   "metadata": {},
   "source": [
    "### Writing to file"
   ]
  },
  {
   "cell_type": "code",
   "execution_count": null,
   "metadata": {},
   "outputs": [],
   "source": [
    "employee_file = open('employee.txt', 'a') # if we use w instead of a, it will overwrite the whole file\n",
    "# employee_file.write('Toby - Human Resources')  # commented out as it will keep on appending with each run\n",
    "\n",
    "\n",
    "# while appending you need to be very carefull, each time you run the code, it will add the same line again and again.\n",
    "employee_file.write('\\nKelly - Analyst')  # \\n means it will append it in new line. these are called escape characters.\n",
    "employee_file.close()\n",
    "\n",
    "# To create a new file:\n",
    "employee_file = open('employee1.txt', 'w')  # w is also used to create a new file, just change the name of the file\n",
    "employee_file.write('\\nKelly - Analyst')\n",
    "employee_file.close()\n",
    "\n",
    "# To create a new html page:\n",
    "employee_file = open('sample.html', 'w')  # w is also used to create a new file, just change the name of the file\n",
    "employee_file.write('<p> Hello World! This is HTML.</p>')\n",
    "employee_file.close()\n",
    "\n"
   ]
  },
  {
   "cell_type": "markdown",
   "metadata": {},
   "source": [
    "#### Modules and pip "
   ]
  },
  {
   "cell_type": "code",
   "execution_count": null,
   "metadata": {},
   "outputs": [],
   "source": [
    "'''\n",
    "Module: A file containing a set of functions you want to include in your application.\n",
    "To create a module just save the code you want in a file with the file extension .py\n",
    "Now we can use the module we just created, by using the import statement.\n",
    "Python has a lot of modules we can import and use. They are stored in the Lib folder.\n",
    "Python default modules documentation: https://docs.python.org/3/py-modindex.html\n",
    "We can also use third file modules which can be installed on our system with pip.\n",
    "Pip is a package manager.\n",
    "'''"
   ]
  },
  {
   "cell_type": "markdown",
   "metadata": {},
   "source": [
    "### Classes & Objects"
   ]
  },
  {
   "cell_type": "code",
   "execution_count": null,
   "metadata": {},
   "outputs": [],
   "source": [
    "Not all data can be represented using strings , numbers or boolean value .So classes and objects  are used to create \n",
    "our  own data type. So i can create a phone data type and can represented phone .So, i can store all the information.I want\n",
    "to know about my phone inside that datatype ."
   ]
  },
  {
   "cell_type": "code",
   "execution_count": null,
   "metadata": {},
   "outputs": [],
   "source": []
  },
  {
   "cell_type": "code",
   "execution_count": 120,
   "metadata": {},
   "outputs": [],
   "source": [
    "#break in for loop\n",
    "#The break is a keyword in python which is used to bring the program control out of the loop\n",
    "sequence = [1, 2, 0, 4, 6, 5, 2, 1]\n",
    "total_until_5 = 0\n",
    "for value in sequence:\n",
    "    if value == 5:\n",
    "        break\n",
    "    total_until_5 += value"
   ]
  },
  {
   "cell_type": "code",
   "execution_count": 121,
   "metadata": {},
   "outputs": [
    {
     "data": {
      "text/plain": [
       "13"
      ]
     },
     "execution_count": 121,
     "metadata": {},
     "output_type": "execute_result"
    }
   ],
   "source": [
    "total_until_5"
   ]
  }
 ],
 "metadata": {
  "kernelspec": {
   "display_name": "Python 3",
   "language": "python",
   "name": "python3"
  },
  "language_info": {
   "codemirror_mode": {
    "name": "ipython",
    "version": 3
   },
   "file_extension": ".py",
   "mimetype": "text/x-python",
   "name": "python",
   "nbconvert_exporter": "python",
   "pygments_lexer": "ipython3",
   "version": "3.6.5"
  }
 },
 "nbformat": 4,
 "nbformat_minor": 2
}
